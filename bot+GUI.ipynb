{
 "cells": [
  {
   "cell_type": "code",
   "execution_count": 1,
   "metadata": {},
   "outputs": [],
   "source": [
    "#Import libraries\n",
    "import numpy as np\n",
    "import pandas as pd\n",
    "from nltk.corpus import stopwords\n",
    "from nltk.tokenize import word_tokenize\n",
    "import nltk\n",
    "import re\n",
    "from sklearn.preprocessing import OneHotEncoder\n",
    "import matplotlib.pyplot as plt\n",
    "from tensorflow.keras.preprocessing.text import Tokenizer\n",
    "from tensorflow.keras.preprocessing.sequence import pad_sequences\n",
    "from tensorflow.keras.utils import to_categorical\n",
    "from tensorflow.keras.models import Sequential, load_model\n",
    "from tensorflow.keras.layers import Dense, LSTM, Bidirectional, Embedding, Dropout\n",
    "from tensorflow.keras.callbacks import ModelCheckpoint"
   ]
  },
  {
   "cell_type": "code",
   "execution_count": 2,
   "metadata": {},
   "outputs": [],
   "source": [
    "#function for loading the dataset\n",
    "def load_dataset(filename):\n",
    "    df = pd.read_csv(filename, encoding = \"latin1\", names = [\"Sentence\", \"Intent\"])\n",
    "    print(df.head())\n",
    "    intent = df[\"Intent\"]\n",
    "    unique_intent = list(set(intent))\n",
    "    sentences = list(df[\"Sentence\"])\n",
    "\n",
    "    return (intent, unique_intent, sentences)"
   ]
  },
  {
   "cell_type": "code",
   "execution_count": 3,
   "metadata": {},
   "outputs": [
    {
     "name": "stdout",
     "output_type": "stream",
     "text": [
      "               Sentence    Intent\n",
      "0                 Hello  greeting\n",
      "1                   Hi!  greeting\n",
      "2            Greetings!  greeting\n",
      "3  Hi, how is it going?  greeting\n",
      "4    How are you doing?  greeting\n"
     ]
    }
   ],
   "source": [
    "#loading the dataset\n",
    "intent, unique_intent, sentences = load_dataset(\"chatbot_data.csv\")"
   ]
  },
  {
   "cell_type": "code",
   "execution_count": 4,
   "metadata": {},
   "outputs": [
    {
     "name": "stdout",
     "output_type": "stream",
     "text": [
      "['Hello', 'Hi!', 'Greetings!', 'Hi, how is it going?', 'How are you doing?']\n"
     ]
    }
   ],
   "source": [
    "#printing top 5 rows\n",
    "print(sentences[:5])"
   ]
  },
  {
   "cell_type": "code",
   "execution_count": 5,
   "metadata": {},
   "outputs": [],
   "source": [
    "#data cleaning\n",
    "def cleaning(sentences):\n",
    "    words = []\n",
    "    for s in sentences:\n",
    "        clean = re.sub(r'[^ a-z A-Z 0-9]', \" \", s)\n",
    "        w = word_tokenize(clean)\n",
    "        #stemming\n",
    "        words.append([i.lower() for i in w])\n",
    "\n",
    "    return words"
   ]
  },
  {
   "cell_type": "code",
   "execution_count": 6,
   "metadata": {},
   "outputs": [
    {
     "name": "stdout",
     "output_type": "stream",
     "text": [
      "31\n",
      "[['hello'], ['hi']]\n"
     ]
    }
   ],
   "source": [
    "cleaned_words = cleaning(sentences)\n",
    "print(len(cleaned_words))\n",
    "print(cleaned_words[:2])"
   ]
  },
  {
   "cell_type": "code",
   "execution_count": 7,
   "metadata": {},
   "outputs": [],
   "source": [
    "#filtering the data\n",
    "def create_tokenizer(words, filters = '!\"#$%&()*+,-./:;<=>?@[\\]^_`{|}~'):\n",
    "    token = Tokenizer(filters = filters)\n",
    "    token.fit_on_texts(words)\n",
    "    return token"
   ]
  },
  {
   "cell_type": "code",
   "execution_count": 8,
   "metadata": {},
   "outputs": [],
   "source": [
    "def max_length(words):\n",
    "    return(len(max(words, key = len)))"
   ]
  },
  {
   "cell_type": "code",
   "execution_count": 9,
   "metadata": {},
   "outputs": [
    {
     "name": "stdout",
     "output_type": "stream",
     "text": [
      "Vocab Size = 51 and Maximum length = 6\n"
     ]
    }
   ],
   "source": [
    "#counting Vocab Size and Maximum length\n",
    "word_tokenizer = create_tokenizer(cleaned_words)\n",
    "vocab_size = len(word_tokenizer.word_index) + 1\n",
    "max_length = max_length(cleaned_words)\n",
    "\n",
    "print(\"Vocab Size = %d and Maximum length = %d\" % (vocab_size, max_length))"
   ]
  },
  {
   "cell_type": "code",
   "execution_count": 10,
   "metadata": {},
   "outputs": [],
   "source": [
    "# encoding function\n",
    "def encoding_doc(token, words):\n",
    "    return(token.texts_to_sequences(words))"
   ]
  },
  {
   "cell_type": "code",
   "execution_count": 11,
   "metadata": {},
   "outputs": [],
   "source": [
    "encoded_doc = encoding_doc(word_tokenizer, cleaned_words)"
   ]
  },
  {
   "cell_type": "code",
   "execution_count": 12,
   "metadata": {},
   "outputs": [],
   "source": [
    "# padding function\n",
    "def padding_doc(encoded_doc, max_length):\n",
    "    return(pad_sequences(encoded_doc, maxlen = max_length, padding = \"post\"))"
   ]
  },
  {
   "cell_type": "code",
   "execution_count": 13,
   "metadata": {},
   "outputs": [],
   "source": [
    "padded_doc = padding_doc(encoded_doc, max_length)"
   ]
  },
  {
   "cell_type": "code",
   "execution_count": 14,
   "metadata": {},
   "outputs": [
    {
     "data": {
      "text/plain": [
       "array([[24,  0,  0,  0,  0,  0],\n",
       "       [10,  0,  0,  0,  0,  0],\n",
       "       [25,  0,  0,  0,  0,  0],\n",
       "       [10,  1,  3, 26, 27,  0],\n",
       "       [ 1,  8, 11, 28,  0,  0]])"
      ]
     },
     "execution_count": 14,
     "metadata": {},
     "output_type": "execute_result"
    }
   ],
   "source": [
    "padded_doc[:5]"
   ]
  },
  {
   "cell_type": "code",
   "execution_count": 15,
   "metadata": {},
   "outputs": [
    {
     "name": "stdout",
     "output_type": "stream",
     "text": [
      "Shape of padded docs =  (31, 6)\n"
     ]
    }
   ],
   "source": [
    "print(\"Shape of padded docs = \",padded_doc.shape)"
   ]
  },
  {
   "cell_type": "code",
   "execution_count": 16,
   "metadata": {},
   "outputs": [],
   "source": [
    "#tokenizer with filter changed\n",
    "output_tokenizer = create_tokenizer(unique_intent, filters = '!\"#$%&()*+,-/:;<=>?@[\\]^`{|}~')"
   ]
  },
  {
   "cell_type": "code",
   "execution_count": 17,
   "metadata": {},
   "outputs": [
    {
     "data": {
      "text/plain": [
       "{'goodbye': 1,\n",
       " 'quarantine': 2,\n",
       " 'vaccine': 3,\n",
       " 'avoid': 4,\n",
       " 'distancing': 5,\n",
       " 'info': 6,\n",
       " 'symptoms': 7,\n",
       " 'greeting': 8,\n",
       " 'help': 9}"
      ]
     },
     "execution_count": 17,
     "metadata": {},
     "output_type": "execute_result"
    }
   ],
   "source": [
    "output_tokenizer.word_index"
   ]
  },
  {
   "cell_type": "code",
   "execution_count": 18,
   "metadata": {},
   "outputs": [],
   "source": [
    "encoded_output = encoding_doc(output_tokenizer, intent)"
   ]
  },
  {
   "cell_type": "code",
   "execution_count": 19,
   "metadata": {},
   "outputs": [],
   "source": [
    "encoded_output = np.array(encoded_output).reshape(len(encoded_output), 1)"
   ]
  },
  {
   "cell_type": "code",
   "execution_count": 20,
   "metadata": {},
   "outputs": [
    {
     "data": {
      "text/plain": [
       "(31, 1)"
      ]
     },
     "execution_count": 20,
     "metadata": {},
     "output_type": "execute_result"
    }
   ],
   "source": [
    "encoded_output.shape"
   ]
  },
  {
   "cell_type": "code",
   "execution_count": 21,
   "metadata": {},
   "outputs": [],
   "source": [
    "# one hot encoding\n",
    "def one_hot(encode):\n",
    "    o = OneHotEncoder(sparse = False)\n",
    "    return(o.fit_transform(encode))"
   ]
  },
  {
   "cell_type": "code",
   "execution_count": 22,
   "metadata": {},
   "outputs": [],
   "source": [
    "output_one_hot = one_hot(encoded_output)"
   ]
  },
  {
   "cell_type": "code",
   "execution_count": 23,
   "metadata": {},
   "outputs": [
    {
     "data": {
      "text/plain": [
       "(31, 9)"
      ]
     },
     "execution_count": 23,
     "metadata": {},
     "output_type": "execute_result"
    }
   ],
   "source": [
    "#Shape of one hot output\n",
    "output_one_hot.shape "
   ]
  },
  {
   "cell_type": "code",
   "execution_count": 24,
   "metadata": {},
   "outputs": [],
   "source": [
    "from sklearn.model_selection import train_test_split"
   ]
  },
  {
   "cell_type": "code",
   "execution_count": 25,
   "metadata": {},
   "outputs": [],
   "source": [
    "#spliting the data into train and test\n",
    "train_X, val_X, train_Y, val_Y = train_test_split(padded_doc, output_one_hot, shuffle = True, test_size = 0.2)"
   ]
  },
  {
   "cell_type": "code",
   "execution_count": 26,
   "metadata": {},
   "outputs": [
    {
     "name": "stdout",
     "output_type": "stream",
     "text": [
      "Shape of train_X = (24, 6) and train_Y = (24, 9)\n",
      "Shape of val_X = (7, 6) and val_Y = (7, 9)\n"
     ]
    }
   ],
   "source": [
    "#shape of train and test data\n",
    "print(\"Shape of train_X = %s and train_Y = %s\" % (train_X.shape, train_Y.shape))\n",
    "print(\"Shape of val_X = %s and val_Y = %s\" % (val_X.shape, val_Y.shape))"
   ]
  },
  {
   "cell_type": "code",
   "execution_count": 27,
   "metadata": {},
   "outputs": [],
   "source": [
    "#defining the model\n",
    "def create_model(vocab_size, max_length):\n",
    "    model = Sequential()\n",
    "    model.add(Embedding(vocab_size, 128, input_length = max_length, trainable = False))#input layer\n",
    "    model.add(Bidirectional(LSTM(128)))\n",
    "    model.add(Dense(32, activation = \"relu\"))\n",
    "    model.add(Dropout(0.5))\n",
    "    model.add(Dense(9, activation = \"softmax\"))#output layer\n",
    "    return model"
   ]
  },
  {
   "cell_type": "code",
   "execution_count": 28,
   "metadata": {},
   "outputs": [
    {
     "name": "stdout",
     "output_type": "stream",
     "text": [
      "Model: \"sequential\"\n",
      "_________________________________________________________________\n",
      "Layer (type)                 Output Shape              Param #   \n",
      "=================================================================\n",
      "embedding (Embedding)        (None, 6, 128)            6528      \n",
      "_________________________________________________________________\n",
      "bidirectional (Bidirectional (None, 256)               263168    \n",
      "_________________________________________________________________\n",
      "dense (Dense)                (None, 32)                8224      \n",
      "_________________________________________________________________\n",
      "dropout (Dropout)            (None, 32)                0         \n",
      "_________________________________________________________________\n",
      "dense_1 (Dense)              (None, 9)                 297       \n",
      "=================================================================\n",
      "Total params: 278,217\n",
      "Trainable params: 271,689\n",
      "Non-trainable params: 6,528\n",
      "_________________________________________________________________\n"
     ]
    }
   ],
   "source": [
    "#presentation of the model\n",
    "model = create_model(vocab_size, max_length)\n",
    "model.compile(loss = \"categorical_crossentropy\", optimizer = \"adam\", metrics = [\"accuracy\"])\n",
    "model.summary()"
   ]
  },
  {
   "cell_type": "code",
   "execution_count": 29,
   "metadata": {},
   "outputs": [
    {
     "name": "stdout",
     "output_type": "stream",
     "text": [
      "Epoch 1/100\n",
      "1/1 [==============================] - 5s 5s/step - loss: 2.1934 - accuracy: 0.1667 - val_loss: 2.2020 - val_accuracy: 0.0000e+00\n",
      "\n",
      "Epoch 00001: val_loss improved from inf to 2.20197, saving model to model.h5\n",
      "Epoch 2/100\n",
      "1/1 [==============================] - 0s 52ms/step - loss: 2.1804 - accuracy: 0.2083 - val_loss: 2.2043 - val_accuracy: 0.0000e+00\n",
      "\n",
      "Epoch 00002: val_loss did not improve from 2.20197\n",
      "Epoch 3/100\n",
      "1/1 [==============================] - 0s 50ms/step - loss: 2.1805 - accuracy: 0.1667 - val_loss: 2.2073 - val_accuracy: 0.0000e+00\n",
      "\n",
      "Epoch 00003: val_loss did not improve from 2.20197\n",
      "Epoch 4/100\n",
      "1/1 [==============================] - 0s 58ms/step - loss: 2.1669 - accuracy: 0.2500 - val_loss: 2.2117 - val_accuracy: 0.0000e+00\n",
      "\n",
      "Epoch 00004: val_loss did not improve from 2.20197\n",
      "Epoch 5/100\n",
      "1/1 [==============================] - 0s 49ms/step - loss: 2.1624 - accuracy: 0.1250 - val_loss: 2.2161 - val_accuracy: 0.0000e+00\n",
      "\n",
      "Epoch 00005: val_loss did not improve from 2.20197\n",
      "Epoch 6/100\n",
      "1/1 [==============================] - 0s 56ms/step - loss: 2.1460 - accuracy: 0.2083 - val_loss: 2.2205 - val_accuracy: 0.0000e+00\n",
      "\n",
      "Epoch 00006: val_loss did not improve from 2.20197\n",
      "Epoch 7/100\n",
      "1/1 [==============================] - 0s 53ms/step - loss: 2.1480 - accuracy: 0.2917 - val_loss: 2.2247 - val_accuracy: 0.0000e+00\n",
      "\n",
      "Epoch 00007: val_loss did not improve from 2.20197\n",
      "Epoch 8/100\n",
      "1/1 [==============================] - 0s 56ms/step - loss: 2.1168 - accuracy: 0.2500 - val_loss: 2.2300 - val_accuracy: 0.0000e+00\n",
      "\n",
      "Epoch 00008: val_loss did not improve from 2.20197\n",
      "Epoch 9/100\n",
      "1/1 [==============================] - 0s 48ms/step - loss: 2.0965 - accuracy: 0.2500 - val_loss: 2.2367 - val_accuracy: 0.0000e+00\n",
      "\n",
      "Epoch 00009: val_loss did not improve from 2.20197\n",
      "Epoch 10/100\n",
      "1/1 [==============================] - 0s 54ms/step - loss: 2.0600 - accuracy: 0.3333 - val_loss: 2.2467 - val_accuracy: 0.0000e+00\n",
      "\n",
      "Epoch 00010: val_loss did not improve from 2.20197\n",
      "Epoch 11/100\n",
      "1/1 [==============================] - 0s 75ms/step - loss: 2.1207 - accuracy: 0.3333 - val_loss: 2.2577 - val_accuracy: 0.0000e+00\n",
      "\n",
      "Epoch 00011: val_loss did not improve from 2.20197\n",
      "Epoch 12/100\n",
      "1/1 [==============================] - 0s 79ms/step - loss: 2.0758 - accuracy: 0.2500 - val_loss: 2.2701 - val_accuracy: 0.0000e+00\n",
      "\n",
      "Epoch 00012: val_loss did not improve from 2.20197\n",
      "Epoch 13/100\n",
      "1/1 [==============================] - 0s 70ms/step - loss: 2.0608 - accuracy: 0.1667 - val_loss: 2.2846 - val_accuracy: 0.0000e+00\n",
      "\n",
      "Epoch 00013: val_loss did not improve from 2.20197\n",
      "Epoch 14/100\n",
      "1/1 [==============================] - 0s 69ms/step - loss: 2.1146 - accuracy: 0.1250 - val_loss: 2.2989 - val_accuracy: 0.0000e+00\n",
      "\n",
      "Epoch 00014: val_loss did not improve from 2.20197\n",
      "Epoch 15/100\n",
      "1/1 [==============================] - 0s 66ms/step - loss: 2.0523 - accuracy: 0.2083 - val_loss: 2.3137 - val_accuracy: 0.0000e+00\n",
      "\n",
      "Epoch 00015: val_loss did not improve from 2.20197\n",
      "Epoch 16/100\n",
      "1/1 [==============================] - 0s 60ms/step - loss: 2.0275 - accuracy: 0.2083 - val_loss: 2.3308 - val_accuracy: 0.0000e+00\n",
      "\n",
      "Epoch 00016: val_loss did not improve from 2.20197\n",
      "Epoch 17/100\n",
      "1/1 [==============================] - 0s 55ms/step - loss: 2.0450 - accuracy: 0.2917 - val_loss: 2.3487 - val_accuracy: 0.0000e+00\n",
      "\n",
      "Epoch 00017: val_loss did not improve from 2.20197\n",
      "Epoch 18/100\n",
      "1/1 [==============================] - 0s 60ms/step - loss: 1.9774 - accuracy: 0.3333 - val_loss: 2.3690 - val_accuracy: 0.0000e+00\n",
      "\n",
      "Epoch 00018: val_loss did not improve from 2.20197\n",
      "Epoch 19/100\n",
      "1/1 [==============================] - 0s 77ms/step - loss: 2.0018 - accuracy: 0.2500 - val_loss: 2.3876 - val_accuracy: 0.0000e+00\n",
      "\n",
      "Epoch 00019: val_loss did not improve from 2.20197\n",
      "Epoch 20/100\n",
      "1/1 [==============================] - 0s 69ms/step - loss: 1.9598 - accuracy: 0.3750 - val_loss: 2.4052 - val_accuracy: 0.0000e+00\n",
      "\n",
      "Epoch 00020: val_loss did not improve from 2.20197\n",
      "Epoch 21/100\n",
      "1/1 [==============================] - 0s 74ms/step - loss: 1.9913 - accuracy: 0.3750 - val_loss: 2.4149 - val_accuracy: 0.0000e+00\n",
      "\n",
      "Epoch 00021: val_loss did not improve from 2.20197\n",
      "Epoch 22/100\n",
      "1/1 [==============================] - 0s 61ms/step - loss: 1.9358 - accuracy: 0.2500 - val_loss: 2.4232 - val_accuracy: 0.0000e+00\n",
      "\n",
      "Epoch 00022: val_loss did not improve from 2.20197\n",
      "Epoch 23/100\n",
      "1/1 [==============================] - 0s 54ms/step - loss: 2.0162 - accuracy: 0.2083 - val_loss: 2.4219 - val_accuracy: 0.0000e+00\n",
      "\n",
      "Epoch 00023: val_loss did not improve from 2.20197\n",
      "Epoch 24/100\n",
      "1/1 [==============================] - 0s 53ms/step - loss: 2.0419 - accuracy: 0.1250 - val_loss: 2.4131 - val_accuracy: 0.0000e+00\n",
      "\n",
      "Epoch 00024: val_loss did not improve from 2.20197\n",
      "Epoch 25/100\n",
      "1/1 [==============================] - 0s 55ms/step - loss: 1.9782 - accuracy: 0.2917 - val_loss: 2.4031 - val_accuracy: 0.0000e+00\n",
      "\n",
      "Epoch 00025: val_loss did not improve from 2.20197\n",
      "Epoch 26/100\n",
      "1/1 [==============================] - 0s 54ms/step - loss: 1.9422 - accuracy: 0.2500 - val_loss: 2.3917 - val_accuracy: 0.0000e+00\n",
      "\n",
      "Epoch 00026: val_loss did not improve from 2.20197\n",
      "Epoch 27/100\n",
      "1/1 [==============================] - 0s 59ms/step - loss: 2.0957 - accuracy: 0.1667 - val_loss: 2.3780 - val_accuracy: 0.0000e+00\n",
      "\n",
      "Epoch 00027: val_loss did not improve from 2.20197\n",
      "Epoch 28/100\n",
      "1/1 [==============================] - 0s 72ms/step - loss: 1.9458 - accuracy: 0.2917 - val_loss: 2.3685 - val_accuracy: 0.0000e+00\n",
      "\n",
      "Epoch 00028: val_loss did not improve from 2.20197\n",
      "Epoch 29/100\n",
      "1/1 [==============================] - 0s 74ms/step - loss: 1.8708 - accuracy: 0.3333 - val_loss: 2.3635 - val_accuracy: 0.0000e+00\n",
      "\n",
      "Epoch 00029: val_loss did not improve from 2.20197\n",
      "Epoch 30/100\n",
      "1/1 [==============================] - 0s 63ms/step - loss: 2.0296 - accuracy: 0.3750 - val_loss: 2.3589 - val_accuracy: 0.0000e+00\n",
      "\n",
      "Epoch 00030: val_loss did not improve from 2.20197\n",
      "Epoch 31/100\n",
      "1/1 [==============================] - 0s 57ms/step - loss: 2.0638 - accuracy: 0.2083 - val_loss: 2.3507 - val_accuracy: 0.0000e+00\n",
      "\n",
      "Epoch 00031: val_loss did not improve from 2.20197\n",
      "Epoch 32/100\n",
      "1/1 [==============================] - 0s 60ms/step - loss: 2.0792 - accuracy: 0.1667 - val_loss: 2.3411 - val_accuracy: 0.0000e+00\n",
      "\n",
      "Epoch 00032: val_loss did not improve from 2.20197\n",
      "Epoch 33/100\n",
      "1/1 [==============================] - 0s 65ms/step - loss: 1.9527 - accuracy: 0.2500 - val_loss: 2.3334 - val_accuracy: 0.0000e+00\n",
      "\n",
      "Epoch 00033: val_loss did not improve from 2.20197\n",
      "Epoch 34/100\n",
      "1/1 [==============================] - 0s 71ms/step - loss: 1.9352 - accuracy: 0.3750 - val_loss: 2.3262 - val_accuracy: 0.0000e+00\n",
      "\n",
      "Epoch 00034: val_loss did not improve from 2.20197\n",
      "Epoch 35/100\n",
      "1/1 [==============================] - 0s 75ms/step - loss: 1.8815 - accuracy: 0.2500 - val_loss: 2.3231 - val_accuracy: 0.0000e+00\n",
      "\n",
      "Epoch 00035: val_loss did not improve from 2.20197\n",
      "Epoch 36/100\n",
      "1/1 [==============================] - 0s 81ms/step - loss: 1.8878 - accuracy: 0.4167 - val_loss: 2.3232 - val_accuracy: 0.0000e+00\n",
      "\n",
      "Epoch 00036: val_loss did not improve from 2.20197\n",
      "Epoch 37/100\n",
      "1/1 [==============================] - 0s 67ms/step - loss: 1.8090 - accuracy: 0.3333 - val_loss: 2.3271 - val_accuracy: 0.0000e+00\n",
      "\n",
      "Epoch 00037: val_loss did not improve from 2.20197\n",
      "Epoch 38/100\n",
      "1/1 [==============================] - 0s 55ms/step - loss: 1.9044 - accuracy: 0.2500 - val_loss: 2.3290 - val_accuracy: 0.0000e+00\n",
      "\n",
      "Epoch 00038: val_loss did not improve from 2.20197\n",
      "Epoch 39/100\n",
      "1/1 [==============================] - 0s 55ms/step - loss: 1.8681 - accuracy: 0.3333 - val_loss: 2.3326 - val_accuracy: 0.0000e+00\n",
      "\n",
      "Epoch 00039: val_loss did not improve from 2.20197\n",
      "Epoch 40/100\n",
      "1/1 [==============================] - 0s 63ms/step - loss: 1.8936 - accuracy: 0.4167 - val_loss: 2.3339 - val_accuracy: 0.0000e+00\n",
      "\n",
      "Epoch 00040: val_loss did not improve from 2.20197\n",
      "Epoch 41/100\n",
      "1/1 [==============================] - 0s 78ms/step - loss: 1.8251 - accuracy: 0.4583 - val_loss: 2.3374 - val_accuracy: 0.0000e+00\n",
      "\n",
      "Epoch 00041: val_loss did not improve from 2.20197\n",
      "Epoch 42/100\n",
      "1/1 [==============================] - 0s 67ms/step - loss: 1.9054 - accuracy: 0.2500 - val_loss: 2.3358 - val_accuracy: 0.0000e+00\n"
     ]
    },
    {
     "name": "stdout",
     "output_type": "stream",
     "text": [
      "\n",
      "Epoch 00042: val_loss did not improve from 2.20197\n",
      "Epoch 43/100\n",
      "1/1 [==============================] - 0s 58ms/step - loss: 1.8201 - accuracy: 0.4167 - val_loss: 2.3323 - val_accuracy: 0.0000e+00\n",
      "\n",
      "Epoch 00043: val_loss did not improve from 2.20197\n",
      "Epoch 44/100\n",
      "1/1 [==============================] - 0s 72ms/step - loss: 1.8389 - accuracy: 0.4167 - val_loss: 2.3243 - val_accuracy: 0.0000e+00\n",
      "\n",
      "Epoch 00044: val_loss did not improve from 2.20197\n",
      "Epoch 45/100\n",
      "1/1 [==============================] - 0s 74ms/step - loss: 1.8557 - accuracy: 0.3750 - val_loss: 2.3126 - val_accuracy: 0.0000e+00\n",
      "\n",
      "Epoch 00045: val_loss did not improve from 2.20197\n",
      "Epoch 46/100\n",
      "1/1 [==============================] - 0s 69ms/step - loss: 1.8135 - accuracy: 0.3750 - val_loss: 2.3033 - val_accuracy: 0.0000e+00\n",
      "\n",
      "Epoch 00046: val_loss did not improve from 2.20197\n",
      "Epoch 47/100\n",
      "1/1 [==============================] - 0s 71ms/step - loss: 1.6974 - accuracy: 0.4167 - val_loss: 2.2962 - val_accuracy: 0.0000e+00\n",
      "\n",
      "Epoch 00047: val_loss did not improve from 2.20197\n",
      "Epoch 48/100\n",
      "1/1 [==============================] - 0s 72ms/step - loss: 1.7967 - accuracy: 0.3750 - val_loss: 2.2873 - val_accuracy: 0.0000e+00\n",
      "\n",
      "Epoch 00048: val_loss did not improve from 2.20197\n",
      "Epoch 49/100\n",
      "1/1 [==============================] - 0s 72ms/step - loss: 1.7350 - accuracy: 0.5000 - val_loss: 2.2784 - val_accuracy: 0.0000e+00\n",
      "\n",
      "Epoch 00049: val_loss did not improve from 2.20197\n",
      "Epoch 50/100\n",
      "1/1 [==============================] - 0s 65ms/step - loss: 1.7457 - accuracy: 0.4583 - val_loss: 2.2715 - val_accuracy: 0.1429\n",
      "\n",
      "Epoch 00050: val_loss did not improve from 2.20197\n",
      "Epoch 51/100\n",
      "1/1 [==============================] - 0s 55ms/step - loss: 1.7555 - accuracy: 0.3750 - val_loss: 2.2676 - val_accuracy: 0.1429\n",
      "\n",
      "Epoch 00051: val_loss did not improve from 2.20197\n",
      "Epoch 52/100\n",
      "1/1 [==============================] - 0s 78ms/step - loss: 1.6272 - accuracy: 0.4167 - val_loss: 2.2696 - val_accuracy: 0.1429\n",
      "\n",
      "Epoch 00052: val_loss did not improve from 2.20197\n",
      "Epoch 53/100\n",
      "1/1 [==============================] - 0s 69ms/step - loss: 1.6316 - accuracy: 0.4167 - val_loss: 2.2610 - val_accuracy: 0.1429\n",
      "\n",
      "Epoch 00053: val_loss did not improve from 2.20197\n",
      "Epoch 54/100\n",
      "1/1 [==============================] - 0s 66ms/step - loss: 1.5433 - accuracy: 0.5000 - val_loss: 2.2542 - val_accuracy: 0.1429\n",
      "\n",
      "Epoch 00054: val_loss did not improve from 2.20197\n",
      "Epoch 55/100\n",
      "1/1 [==============================] - 0s 67ms/step - loss: 1.5573 - accuracy: 0.5417 - val_loss: 2.2412 - val_accuracy: 0.1429\n",
      "\n",
      "Epoch 00055: val_loss did not improve from 2.20197\n",
      "Epoch 56/100\n",
      "1/1 [==============================] - 0s 72ms/step - loss: 1.5610 - accuracy: 0.4583 - val_loss: 2.2268 - val_accuracy: 0.1429\n",
      "\n",
      "Epoch 00056: val_loss did not improve from 2.20197\n",
      "Epoch 57/100\n",
      "1/1 [==============================] - 0s 60ms/step - loss: 1.4995 - accuracy: 0.4583 - val_loss: 2.2203 - val_accuracy: 0.1429\n",
      "\n",
      "Epoch 00057: val_loss did not improve from 2.20197\n",
      "Epoch 58/100\n",
      "1/1 [==============================] - 0s 64ms/step - loss: 1.3536 - accuracy: 0.5833 - val_loss: 2.2217 - val_accuracy: 0.1429\n",
      "\n",
      "Epoch 00058: val_loss did not improve from 2.20197\n",
      "Epoch 59/100\n",
      "1/1 [==============================] - 0s 67ms/step - loss: 1.5311 - accuracy: 0.3333 - val_loss: 2.2284 - val_accuracy: 0.1429\n",
      "\n",
      "Epoch 00059: val_loss did not improve from 2.20197\n",
      "Epoch 60/100\n",
      "1/1 [==============================] - 0s 73ms/step - loss: 1.3798 - accuracy: 0.5833 - val_loss: 2.2340 - val_accuracy: 0.1429\n",
      "\n",
      "Epoch 00060: val_loss did not improve from 2.20197\n",
      "Epoch 61/100\n",
      "1/1 [==============================] - 0s 70ms/step - loss: 1.3705 - accuracy: 0.5833 - val_loss: 2.2332 - val_accuracy: 0.1429\n",
      "\n",
      "Epoch 00061: val_loss did not improve from 2.20197\n",
      "Epoch 62/100\n",
      "1/1 [==============================] - 0s 72ms/step - loss: 1.2344 - accuracy: 0.5833 - val_loss: 2.2198 - val_accuracy: 0.1429\n",
      "\n",
      "Epoch 00062: val_loss did not improve from 2.20197\n",
      "Epoch 63/100\n",
      "1/1 [==============================] - 0s 67ms/step - loss: 1.2729 - accuracy: 0.6667 - val_loss: 2.1999 - val_accuracy: 0.1429\n",
      "\n",
      "Epoch 00063: val_loss improved from 2.20197 to 2.19990, saving model to model.h5\n",
      "Epoch 64/100\n",
      "1/1 [==============================] - 0s 48ms/step - loss: 1.3590 - accuracy: 0.6250 - val_loss: 2.1883 - val_accuracy: 0.1429\n",
      "\n",
      "Epoch 00064: val_loss improved from 2.19990 to 2.18833, saving model to model.h5\n",
      "Epoch 65/100\n",
      "1/1 [==============================] - 0s 40ms/step - loss: 1.1108 - accuracy: 0.5000 - val_loss: 2.1692 - val_accuracy: 0.1429\n",
      "\n",
      "Epoch 00065: val_loss improved from 2.18833 to 2.16923, saving model to model.h5\n",
      "Epoch 66/100\n",
      "1/1 [==============================] - 0s 47ms/step - loss: 1.2132 - accuracy: 0.5417 - val_loss: 2.1438 - val_accuracy: 0.1429\n",
      "\n",
      "Epoch 00066: val_loss improved from 2.16923 to 2.14381, saving model to model.h5\n",
      "Epoch 67/100\n",
      "1/1 [==============================] - 0s 71ms/step - loss: 1.1504 - accuracy: 0.5833 - val_loss: 2.1025 - val_accuracy: 0.2857\n",
      "\n",
      "Epoch 00067: val_loss improved from 2.14381 to 2.10246, saving model to model.h5\n",
      "Epoch 68/100\n",
      "1/1 [==============================] - 0s 59ms/step - loss: 1.0722 - accuracy: 0.6250 - val_loss: 2.0696 - val_accuracy: 0.2857\n",
      "\n",
      "Epoch 00068: val_loss improved from 2.10246 to 2.06963, saving model to model.h5\n",
      "Epoch 69/100\n",
      "1/1 [==============================] - 0s 57ms/step - loss: 1.0748 - accuracy: 0.7083 - val_loss: 2.0502 - val_accuracy: 0.2857\n",
      "\n",
      "Epoch 00069: val_loss improved from 2.06963 to 2.05016, saving model to model.h5\n",
      "Epoch 70/100\n",
      "1/1 [==============================] - 0s 75ms/step - loss: 1.2874 - accuracy: 0.5000 - val_loss: 2.0373 - val_accuracy: 0.2857\n",
      "\n",
      "Epoch 00070: val_loss improved from 2.05016 to 2.03728, saving model to model.h5\n",
      "Epoch 71/100\n",
      "1/1 [==============================] - 0s 72ms/step - loss: 0.9563 - accuracy: 0.6250 - val_loss: 2.0384 - val_accuracy: 0.2857\n",
      "\n",
      "Epoch 00071: val_loss did not improve from 2.03728\n",
      "Epoch 72/100\n",
      "1/1 [==============================] - 0s 62ms/step - loss: 1.1443 - accuracy: 0.5833 - val_loss: 2.0559 - val_accuracy: 0.1429\n",
      "\n",
      "Epoch 00072: val_loss did not improve from 2.03728\n",
      "Epoch 73/100\n",
      "1/1 [==============================] - 0s 65ms/step - loss: 0.9931 - accuracy: 0.6667 - val_loss: 2.0703 - val_accuracy: 0.1429\n",
      "\n",
      "Epoch 00073: val_loss did not improve from 2.03728\n",
      "Epoch 74/100\n",
      "1/1 [==============================] - 0s 73ms/step - loss: 0.9689 - accuracy: 0.6667 - val_loss: 2.1122 - val_accuracy: 0.1429\n",
      "\n",
      "Epoch 00074: val_loss did not improve from 2.03728\n",
      "Epoch 75/100\n",
      "1/1 [==============================] - 0s 83ms/step - loss: 0.9106 - accuracy: 0.6250 - val_loss: 2.0988 - val_accuracy: 0.1429\n",
      "\n",
      "Epoch 00075: val_loss did not improve from 2.03728\n",
      "Epoch 76/100\n",
      "1/1 [==============================] - 0s 72ms/step - loss: 0.9942 - accuracy: 0.6250 - val_loss: 2.0310 - val_accuracy: 0.2857\n",
      "\n",
      "Epoch 00076: val_loss improved from 2.03728 to 2.03100, saving model to model.h5\n",
      "Epoch 77/100\n",
      "1/1 [==============================] - 0s 65ms/step - loss: 0.7648 - accuracy: 0.7500 - val_loss: 1.9930 - val_accuracy: 0.1429\n",
      "\n",
      "Epoch 00077: val_loss improved from 2.03100 to 1.99299, saving model to model.h5\n",
      "Epoch 78/100\n",
      "1/1 [==============================] - 0s 56ms/step - loss: 0.7796 - accuracy: 0.7083 - val_loss: 1.9714 - val_accuracy: 0.1429\n",
      "\n",
      "Epoch 00078: val_loss improved from 1.99299 to 1.97140, saving model to model.h5\n",
      "Epoch 79/100\n",
      "1/1 [==============================] - 0s 51ms/step - loss: 0.9318 - accuracy: 0.6250 - val_loss: 1.9722 - val_accuracy: 0.1429\n",
      "\n",
      "Epoch 00079: val_loss did not improve from 1.97140\n",
      "Epoch 80/100\n",
      "1/1 [==============================] - 0s 64ms/step - loss: 0.6702 - accuracy: 0.7500 - val_loss: 1.9613 - val_accuracy: 0.1429\n",
      "\n",
      "Epoch 00080: val_loss improved from 1.97140 to 1.96133, saving model to model.h5\n",
      "Epoch 81/100\n",
      "1/1 [==============================] - 0s 75ms/step - loss: 0.9603 - accuracy: 0.6250 - val_loss: 1.9515 - val_accuracy: 0.1429\n",
      "\n",
      "Epoch 00081: val_loss improved from 1.96133 to 1.95154, saving model to model.h5\n",
      "Epoch 82/100\n",
      "1/1 [==============================] - 0s 65ms/step - loss: 0.9199 - accuracy: 0.6667 - val_loss: 1.9623 - val_accuracy: 0.2857\n",
      "\n",
      "Epoch 00082: val_loss did not improve from 1.95154\n",
      "Epoch 83/100\n"
     ]
    },
    {
     "name": "stdout",
     "output_type": "stream",
     "text": [
      "1/1 [==============================] - 0s 55ms/step - loss: 0.7689 - accuracy: 0.7500 - val_loss: 1.9784 - val_accuracy: 0.2857\n",
      "\n",
      "Epoch 00083: val_loss did not improve from 1.95154\n",
      "Epoch 84/100\n",
      "1/1 [==============================] - 0s 49ms/step - loss: 0.6419 - accuracy: 0.7500 - val_loss: 1.9735 - val_accuracy: 0.2857\n",
      "\n",
      "Epoch 00084: val_loss did not improve from 1.95154\n",
      "Epoch 85/100\n",
      "1/1 [==============================] - 0s 53ms/step - loss: 0.9410 - accuracy: 0.5833 - val_loss: 1.9783 - val_accuracy: 0.2857\n",
      "\n",
      "Epoch 00085: val_loss did not improve from 1.95154\n",
      "Epoch 86/100\n",
      "1/1 [==============================] - 0s 51ms/step - loss: 0.9012 - accuracy: 0.7083 - val_loss: 1.9548 - val_accuracy: 0.2857\n",
      "\n",
      "Epoch 00086: val_loss did not improve from 1.95154\n",
      "Epoch 87/100\n",
      "1/1 [==============================] - 0s 54ms/step - loss: 0.6470 - accuracy: 0.7917 - val_loss: 1.9384 - val_accuracy: 0.2857\n",
      "\n",
      "Epoch 00087: val_loss improved from 1.95154 to 1.93838, saving model to model.h5\n",
      "Epoch 88/100\n",
      "1/1 [==============================] - 0s 48ms/step - loss: 0.6089 - accuracy: 0.8750 - val_loss: 1.9670 - val_accuracy: 0.2857\n",
      "\n",
      "Epoch 00088: val_loss did not improve from 1.93838\n",
      "Epoch 89/100\n",
      "1/1 [==============================] - 0s 52ms/step - loss: 0.6878 - accuracy: 0.7917 - val_loss: 1.9521 - val_accuracy: 0.2857\n",
      "\n",
      "Epoch 00089: val_loss did not improve from 1.93838\n",
      "Epoch 90/100\n",
      "1/1 [==============================] - 0s 56ms/step - loss: 0.7328 - accuracy: 0.8333 - val_loss: 1.9662 - val_accuracy: 0.1429\n",
      "\n",
      "Epoch 00090: val_loss did not improve from 1.93838\n",
      "Epoch 91/100\n",
      "1/1 [==============================] - 0s 52ms/step - loss: 0.5355 - accuracy: 0.7917 - val_loss: 1.9031 - val_accuracy: 0.2857\n",
      "\n",
      "Epoch 00091: val_loss improved from 1.93838 to 1.90312, saving model to model.h5\n",
      "Epoch 92/100\n",
      "1/1 [==============================] - 0s 47ms/step - loss: 0.5665 - accuracy: 0.7917 - val_loss: 1.8595 - val_accuracy: 0.2857\n",
      "\n",
      "Epoch 00092: val_loss improved from 1.90312 to 1.85950, saving model to model.h5\n",
      "Epoch 93/100\n",
      "1/1 [==============================] - 0s 48ms/step - loss: 0.5724 - accuracy: 0.8333 - val_loss: 1.8202 - val_accuracy: 0.2857\n",
      "\n",
      "Epoch 00093: val_loss improved from 1.85950 to 1.82025, saving model to model.h5\n",
      "Epoch 94/100\n",
      "1/1 [==============================] - 0s 47ms/step - loss: 0.5765 - accuracy: 0.7917 - val_loss: 1.8053 - val_accuracy: 0.2857\n",
      "\n",
      "Epoch 00094: val_loss improved from 1.82025 to 1.80528, saving model to model.h5\n",
      "Epoch 95/100\n",
      "1/1 [==============================] - 0s 47ms/step - loss: 0.4747 - accuracy: 0.7917 - val_loss: 1.7923 - val_accuracy: 0.2857\n",
      "\n",
      "Epoch 00095: val_loss improved from 1.80528 to 1.79232, saving model to model.h5\n",
      "Epoch 96/100\n",
      "1/1 [==============================] - 0s 48ms/step - loss: 0.5747 - accuracy: 0.7917 - val_loss: 1.7825 - val_accuracy: 0.2857\n",
      "\n",
      "Epoch 00096: val_loss improved from 1.79232 to 1.78251, saving model to model.h5\n",
      "Epoch 97/100\n",
      "1/1 [==============================] - 0s 56ms/step - loss: 0.4089 - accuracy: 0.7917 - val_loss: 1.7916 - val_accuracy: 0.2857\n",
      "\n",
      "Epoch 00097: val_loss did not improve from 1.78251\n",
      "Epoch 98/100\n",
      "1/1 [==============================] - 0s 66ms/step - loss: 0.5068 - accuracy: 0.7917 - val_loss: 1.7814 - val_accuracy: 0.2857\n",
      "\n",
      "Epoch 00098: val_loss improved from 1.78251 to 1.78141, saving model to model.h5\n",
      "Epoch 99/100\n",
      "1/1 [==============================] - 0s 73ms/step - loss: 0.6026 - accuracy: 0.8333 - val_loss: 1.7810 - val_accuracy: 0.2857\n",
      "\n",
      "Epoch 00099: val_loss improved from 1.78141 to 1.78096, saving model to model.h5\n",
      "Epoch 100/100\n",
      "1/1 [==============================] - 0s 63ms/step - loss: 0.3629 - accuracy: 0.8750 - val_loss: 1.8087 - val_accuracy: 0.2857\n",
      "\n",
      "Epoch 00100: val_loss did not improve from 1.78096\n"
     ]
    }
   ],
   "source": [
    "#running the model\n",
    "filename = 'model.h5'\n",
    "checkpoint = ModelCheckpoint(filename, monitor='val_loss', verbose=1, save_best_only=True, mode='min')\n",
    "hist = model.fit(train_X, train_Y, epochs = 100, batch_size = 32, validation_data = (val_X, val_Y), callbacks = [checkpoint])"
   ]
  },
  {
   "cell_type": "code",
   "execution_count": 30,
   "metadata": {},
   "outputs": [],
   "source": [
    "model = load_model(\"model.h5\")"
   ]
  },
  {
   "cell_type": "code",
   "execution_count": 31,
   "metadata": {},
   "outputs": [],
   "source": [
    "def predictions(text):\n",
    "    clean = re.sub(r'[^ a-z A-Z 0-9]', \" \", text)\n",
    "    test_word = word_tokenize(clean)\n",
    "    test_word = [w.lower() for w in test_word]\n",
    "    test_ls = word_tokenizer.texts_to_sequences(test_word)\n",
    "    #Check for unknown words\n",
    "    if [] in test_ls:\n",
    "        test_ls = list(filter(None, test_ls))\n",
    "\n",
    "    test_ls = np.array(test_ls).reshape(1, len(test_ls))\n",
    "\n",
    "    x = padding_doc(test_ls, max_length)\n",
    "\n",
    "    pred = model.predict_proba(x)\n",
    "\n",
    "\n",
    "    return pred"
   ]
  },
  {
   "cell_type": "code",
   "execution_count": 32,
   "metadata": {},
   "outputs": [],
   "source": [
    "def get_final_output(pred, classes):\n",
    "    predictions = pred[0]\n",
    "\n",
    "    classes = np.array(classes)\n",
    "    ids = np.argsort(-predictions)\n",
    "    classes = classes[ids]\n",
    "    predictions = -np.sort(-predictions)\n",
    "\n",
    "    for i in range(pred.shape[1]):\n",
    "        print(\"%s has confidence = %s\" % (classes[i], (predictions[i])))"
   ]
  },
  {
   "cell_type": "code",
   "execution_count": 33,
   "metadata": {},
   "outputs": [
    {
     "name": "stderr",
     "output_type": "stream",
     "text": [
      "C:\\Users\\19055\\Anaconda3\\envs\\aidi-1100\\lib\\site-packages\\tensorflow\\python\\keras\\engine\\sequential.py:425: UserWarning: `model.predict_proba()` is deprecated and will be removed after 2021-01-01. Please use `model.predict()` instead.\n",
      "  warnings.warn('`model.predict_proba()` is deprecated and '\n"
     ]
    },
    {
     "name": "stdout",
     "output_type": "stream",
     "text": [
      "info has confidence = 0.8082617\n",
      "help has confidence = 0.11911392\n",
      "goodbye has confidence = 0.034690622\n",
      "quarantine has confidence = 0.011257252\n",
      "symptoms has confidence = 0.009037312\n",
      "vaccine has confidence = 0.007104862\n",
      "distancing has confidence = 0.0061440477\n",
      "avoid has confidence = 0.0039669257\n",
      "greeting has confidence = 0.00042336129\n"
     ]
    }
   ],
   "source": [
    "text = \"Information about coronavirus\"\n",
    "pred = predictions(text)\n",
    "get_final_output(pred, unique_intent)"
   ]
  },
  {
   "cell_type": "code",
   "execution_count": 34,
   "metadata": {},
   "outputs": [],
   "source": [
    "#defining all the intents\n",
    "def action(intent):\n",
    "    case0 = \"greeting\"\n",
    "    case1 = \"info\"\n",
    "    case2 = \"symptoms\"\n",
    "    case3 = \"vaccine\"\n",
    "    case4 = \"avoid\"\n",
    "    case5 = \"help\"\n",
    "    case6 = \"distancing\"\n",
    "    case7 = \"quarantine\"\n",
    "    case8 = \"goodbye\"\n",
    "    \n",
    "    if intent == case0: #defining intente values\n",
    "        ans = \"\\nHello! How can I help you?\"\n",
    "    elif intent == case1:\n",
    "        ans = \"\\nCoronavirus disease (COVID-19) is an infectious disease caused by a newly discovered coronavirus.\"\n",
    "    elif intent == case2:\n",
    "        ans = \"\\nMost common symptoms: fever, dry cough, tiredness \\n Less common symptoms: aches and pains ,sore throat, diarrhoea, conjunctivitisheadache, loss of taste or smell, a rash on skin, or discolouration of fingers or toes \\n Serious symptoms: difficulty breathing or shortness of breathchest pain or pressure, loss of speech or movement\"\n",
    "    elif intent == case3:\n",
    "        ans = \"\\nAstraZeneca, Novavax, Covishield, Covaxin\"\n",
    "    elif intent == case4:\n",
    "        ans = \"\\nWear a mask, Clean your hands, Keep a safe distance\"\n",
    "    elif intent == case5:\n",
    "        ans = \"\\nIf you develop symptoms, self-isolate right away. have new or worsening symptoms; self-isolate right away and refer to the Ministry of Health COVID-19 self-assessment tool for further direction.\"\n",
    "    elif intent == case6:\n",
    "        ans = \"\\nIn public health, social distancing, also called physical distancing, is a set of non-pharmaceutical interventions or measures intended to prevent the spread of a contagious disease by maintaining a physical distance between people and reducing the number of times people come into close contact with each other.\"\n",
    "    elif intent == case7:\n",
    "        ans = \"\\nA quarantine is a restriction on the movement of people, animals and goods which is intended to prevent the spread of disease or pests. \"\n",
    "    elif intent == case8:\n",
    "        ans = \"\\nBye, Stay safe :)\"\n",
    "    return(ans)"
   ]
  },
  {
   "cell_type": "code",
   "execution_count": 35,
   "metadata": {},
   "outputs": [
    {
     "data": {
      "text/plain": [
       "{'goodbye': 1,\n",
       " 'quarantine': 2,\n",
       " 'vaccine': 3,\n",
       " 'avoid': 4,\n",
       " 'distancing': 5,\n",
       " 'info': 6,\n",
       " 'symptoms': 7,\n",
       " 'greeting': 8,\n",
       " 'help': 9}"
      ]
     },
     "execution_count": 35,
     "metadata": {},
     "output_type": "execute_result"
    }
   ],
   "source": [
    "#intent index\n",
    "output_tokenizer.word_index"
   ]
  },
  {
   "cell_type": "code",
   "execution_count": 36,
   "metadata": {},
   "outputs": [
    {
     "data": {
      "text/plain": [
       "array([3.4690622e-02, 1.1257252e-02, 7.1048620e-03, 3.9669257e-03,\n",
       "       6.1440477e-03, 8.0826169e-01, 9.0373121e-03, 4.2336129e-04,\n",
       "       1.1911392e-01], dtype=float32)"
      ]
     },
     "execution_count": 36,
     "metadata": {},
     "output_type": "execute_result"
    }
   ],
   "source": [
    "#predictions\n",
    "predictions(text)[0]"
   ]
  },
  {
   "cell_type": "code",
   "execution_count": 37,
   "metadata": {},
   "outputs": [
    {
     "data": {
      "text/plain": [
       "{'goodbye': 1,\n",
       " 'quarantine': 2,\n",
       " 'vaccine': 3,\n",
       " 'avoid': 4,\n",
       " 'distancing': 5,\n",
       " 'info': 6,\n",
       " 'symptoms': 7,\n",
       " 'greeting': 8,\n",
       " 'help': 9}"
      ]
     },
     "execution_count": 37,
     "metadata": {},
     "output_type": "execute_result"
    }
   ],
   "source": [
    "#output_tokenizer index\n",
    "output_tokenizer.word_index"
   ]
  },
  {
   "cell_type": "code",
   "execution_count": 38,
   "metadata": {},
   "outputs": [],
   "source": [
    "intent_list = list(output_tokenizer.word_index)"
   ]
  },
  {
   "cell_type": "code",
   "execution_count": 39,
   "metadata": {},
   "outputs": [
    {
     "data": {
      "text/plain": [
       "['goodbye',\n",
       " 'quarantine',\n",
       " 'vaccine',\n",
       " 'avoid',\n",
       " 'distancing',\n",
       " 'info',\n",
       " 'symptoms',\n",
       " 'greeting',\n",
       " 'help']"
      ]
     },
     "execution_count": 39,
     "metadata": {},
     "output_type": "execute_result"
    }
   ],
   "source": [
    "intent_list"
   ]
  },
  {
   "cell_type": "code",
   "execution_count": 40,
   "metadata": {},
   "outputs": [],
   "source": [
    "def findLargest(text):\n",
    "    largest = 0\n",
    "    largest_intent = 0\n",
    "    probability_list = predictions(text)\n",
    "    for i in range(0, len(intent_list)):\n",
    "        if probability_list[0][i] > largest:\n",
    "            largest = probability_list[0][i]\n",
    "            largest_intent = i\n",
    "    return largest_intent"
   ]
  },
  {
   "cell_type": "code",
   "execution_count": 41,
   "metadata": {},
   "outputs": [
    {
     "data": {
      "text/plain": [
       "5"
      ]
     },
     "execution_count": 41,
     "metadata": {},
     "output_type": "execute_result"
    }
   ],
   "source": [
    "findLargest(text)"
   ]
  },
  {
   "cell_type": "code",
   "execution_count": 42,
   "metadata": {},
   "outputs": [],
   "source": [
    "likely_intent = intent_list[findLargest(text)]"
   ]
  },
  {
   "cell_type": "code",
   "execution_count": 43,
   "metadata": {},
   "outputs": [
    {
     "data": {
      "text/plain": [
       "'\\nCoronavirus disease (COVID-19) is an infectious disease caused by a newly discovered coronavirus.'"
      ]
     },
     "execution_count": 43,
     "metadata": {},
     "output_type": "execute_result"
    }
   ],
   "source": [
    "action(likely_intent)"
   ]
  },
  {
   "cell_type": "markdown",
   "metadata": {},
   "source": [
    "# GUI"
   ]
  },
  {
   "cell_type": "code",
   "execution_count": 44,
   "metadata": {},
   "outputs": [],
   "source": [
    "from tkinter import*"
   ]
  },
  {
   "cell_type": "code",
   "execution_count": 45,
   "metadata": {},
   "outputs": [],
   "source": [
    "#creating chatbot GUI\n",
    "root=Tk()\n",
    "def send():\n",
    "    send=\"You => \"+e.get()\n",
    "    txt.insert(END,\"\\n\"+send)\n",
    "    intent_index = findLargest(str(e.get()))\n",
    "    e.delete(0,END)\n",
    "    likely_intent = intent_list[intent_index]\n",
    "    receive=\"Chatbot => \"+action(likely_intent)\n",
    "    txt.insert(END,\"\\n\"+receive)"
   ]
  },
  {
   "cell_type": "code",
   "execution_count": 46,
   "metadata": {},
   "outputs": [],
   "source": [
    "#passing chatbot intents to GUI\n",
    "txt=Text(root)\n",
    "txt.grid(row=0,column=0,columnspan=2)\n",
    "e=Entry(root,width=100)\n",
    "send=Button(root,text=\"Send\",command = send).grid(row=1,column=1)\n",
    "e.grid(row=1,column=0)\n",
    "root.title(\"CHATBOT\")\n",
    "root.mainloop()"
   ]
  },
  {
   "cell_type": "code",
   "execution_count": null,
   "metadata": {},
   "outputs": [],
   "source": []
  }
 ],
 "metadata": {
  "kernelspec": {
   "display_name": "Python 3",
   "language": "python",
   "name": "python3"
  },
  "language_info": {
   "codemirror_mode": {
    "name": "ipython",
    "version": 3
   },
   "file_extension": ".py",
   "mimetype": "text/x-python",
   "name": "python",
   "nbconvert_exporter": "python",
   "pygments_lexer": "ipython3",
   "version": "3.7.9"
  }
 },
 "nbformat": 4,
 "nbformat_minor": 4
}
